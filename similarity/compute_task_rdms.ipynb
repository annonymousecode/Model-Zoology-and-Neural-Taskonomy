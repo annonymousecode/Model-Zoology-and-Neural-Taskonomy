{
 "cells": [
  {
   "cell_type": "code",
   "execution_count": 1,
   "metadata": {},
   "outputs": [],
   "source": [
    "import warnings; warnings.filterwarnings(\"ignore\")"
   ]
  },
  {
   "cell_type": "code",
   "execution_count": 2,
   "metadata": {},
   "outputs": [],
   "source": [
    "import os, sys\n",
    "import pickle\n",
    "import argparse\n",
    "import numpy as np\n",
    "import pandas as pd\n",
    "\n",
    "from glob import glob\n",
    "from tqdm import tqdm_notebook as tqdm\n",
    "\n",
    "import torchvision.models as models\n",
    "import torch\n",
    "\n",
    "sys.path.append('../model_opts')\n",
    "from feature_extraction import *\n",
    "from model_options import *"
   ]
  },
  {
   "cell_type": "code",
   "execution_count": 3,
   "metadata": {},
   "outputs": [],
   "source": [
    "from visual_priors import taskonomy_network"
   ]
  },
  {
   "cell_type": "code",
   "execution_count": 4,
   "metadata": {},
   "outputs": [],
   "source": [
    "model_paths = glob('../model_opts/task_weights/*.pth')\n",
    "model_names = sorted(['_'.join(model_path.split('.')[0].split('_')[:-1]) for model_path in os.listdir('models') \n",
    "                          if 'encoder' in model_path])"
   ]
  },
  {
   "cell_type": "code",
   "execution_count": 5,
   "metadata": {},
   "outputs": [],
   "source": [
    "image_transforms = get_image_transforms()['imagenet_from_numpy']\n",
    "mouseland_images = np.load('../stimulus_set.npy')\n",
    "model_inputs = Variable(torch.stack([image_transforms(img) for img in mouseland_images])).cuda()"
   ]
  },
  {
   "cell_type": "code",
   "execution_count": 8,
   "metadata": {},
   "outputs": [],
   "source": [
    "problematic_models = ['colorization']\n",
    "model_names = [name for name in model_names if name not in problematic_models]"
   ]
  },
  {
   "cell_type": "code",
   "execution_count": 9,
   "metadata": {},
   "outputs": [
    {
     "data": {
      "application/vnd.jupyter.widget-view+json": {
       "model_id": "acaaef104be74fa3a84d1aea980171e2",
       "version_major": 2,
       "version_minor": 0
      },
      "text/plain": [
       "HBox(children=(FloatProgress(value=0.0, max=24.0), HTML(value='')))"
      ]
     },
     "metadata": {},
     "output_type": "display_data"
    },
    {
     "name": "stdout",
     "output_type": "stream",
     "text": [
      "Computing RDMS for curvature on TITAN RTX...\n"
     ]
    },
    {
     "data": {
      "application/vnd.jupyter.widget-view+json": {
       "model_id": "",
       "version_major": 2,
       "version_minor": 0
      },
      "text/plain": [
       "HBox(children=(FloatProgress(value=0.0, max=162.0), HTML(value='')))"
      ]
     },
     "metadata": {},
     "output_type": "display_data"
    },
    {
     "name": "stdout",
     "output_type": "stream",
     "text": [
      "Computing RDMS for denoising on TITAN RTX...\n"
     ]
    },
    {
     "data": {
      "application/vnd.jupyter.widget-view+json": {
       "model_id": "",
       "version_major": 2,
       "version_minor": 0
      },
      "text/plain": [
       "HBox(children=(FloatProgress(value=0.0, max=162.0), HTML(value='')))"
      ]
     },
     "metadata": {},
     "output_type": "display_data"
    },
    {
     "name": "stdout",
     "output_type": "stream",
     "text": [
      "Computing RDMS for depth_euclidean on TITAN RTX...\n"
     ]
    },
    {
     "data": {
      "application/vnd.jupyter.widget-view+json": {
       "model_id": "",
       "version_major": 2,
       "version_minor": 0
      },
      "text/plain": [
       "HBox(children=(FloatProgress(value=0.0, max=162.0), HTML(value='')))"
      ]
     },
     "metadata": {},
     "output_type": "display_data"
    },
    {
     "name": "stdout",
     "output_type": "stream",
     "text": [
      "Computing RDMS for depth_zbuffer on TITAN RTX...\n"
     ]
    },
    {
     "data": {
      "application/vnd.jupyter.widget-view+json": {
       "model_id": "",
       "version_major": 2,
       "version_minor": 0
      },
      "text/plain": [
       "HBox(children=(FloatProgress(value=0.0, max=162.0), HTML(value='')))"
      ]
     },
     "metadata": {},
     "output_type": "display_data"
    },
    {
     "name": "stdout",
     "output_type": "stream",
     "text": [
      "Computing RDMS for edge_occlusion on TITAN RTX...\n"
     ]
    },
    {
     "data": {
      "application/vnd.jupyter.widget-view+json": {
       "model_id": "",
       "version_major": 2,
       "version_minor": 0
      },
      "text/plain": [
       "HBox(children=(FloatProgress(value=0.0, max=162.0), HTML(value='')))"
      ]
     },
     "metadata": {},
     "output_type": "display_data"
    },
    {
     "name": "stdout",
     "output_type": "stream",
     "text": [
      "Computing RDMS for edge_texture on TITAN RTX...\n"
     ]
    },
    {
     "data": {
      "application/vnd.jupyter.widget-view+json": {
       "model_id": "",
       "version_major": 2,
       "version_minor": 0
      },
      "text/plain": [
       "HBox(children=(FloatProgress(value=0.0, max=162.0), HTML(value='')))"
      ]
     },
     "metadata": {},
     "output_type": "display_data"
    },
    {
     "name": "stdout",
     "output_type": "stream",
     "text": [
      "Computing RDMS for egomotion on TITAN RTX...\n"
     ]
    },
    {
     "data": {
      "application/vnd.jupyter.widget-view+json": {
       "model_id": "",
       "version_major": 2,
       "version_minor": 0
      },
      "text/plain": [
       "HBox(children=(FloatProgress(value=0.0, max=162.0), HTML(value='')))"
      ]
     },
     "metadata": {},
     "output_type": "display_data"
    },
    {
     "name": "stdout",
     "output_type": "stream",
     "text": [
      "Computing RDMS for fixated_pose on TITAN RTX...\n"
     ]
    },
    {
     "data": {
      "application/vnd.jupyter.widget-view+json": {
       "model_id": "",
       "version_major": 2,
       "version_minor": 0
      },
      "text/plain": [
       "HBox(children=(FloatProgress(value=0.0, max=162.0), HTML(value='')))"
      ]
     },
     "metadata": {},
     "output_type": "display_data"
    },
    {
     "name": "stdout",
     "output_type": "stream",
     "text": [
      "Computing RDMS for inpainting on TITAN RTX...\n"
     ]
    },
    {
     "data": {
      "application/vnd.jupyter.widget-view+json": {
       "model_id": "",
       "version_major": 2,
       "version_minor": 0
      },
      "text/plain": [
       "HBox(children=(FloatProgress(value=0.0, max=162.0), HTML(value='')))"
      ]
     },
     "metadata": {},
     "output_type": "display_data"
    },
    {
     "name": "stdout",
     "output_type": "stream",
     "text": [
      "Computing RDMS for jigsaw on TITAN RTX...\n"
     ]
    },
    {
     "data": {
      "application/vnd.jupyter.widget-view+json": {
       "model_id": "",
       "version_major": 2,
       "version_minor": 0
      },
      "text/plain": [
       "HBox(children=(FloatProgress(value=0.0, max=162.0), HTML(value='')))"
      ]
     },
     "metadata": {},
     "output_type": "display_data"
    },
    {
     "name": "stdout",
     "output_type": "stream",
     "text": [
      "Computing RDMS for keypoints2d on TITAN RTX...\n"
     ]
    },
    {
     "data": {
      "application/vnd.jupyter.widget-view+json": {
       "model_id": "",
       "version_major": 2,
       "version_minor": 0
      },
      "text/plain": [
       "HBox(children=(FloatProgress(value=0.0, max=162.0), HTML(value='')))"
      ]
     },
     "metadata": {},
     "output_type": "display_data"
    },
    {
     "name": "stdout",
     "output_type": "stream",
     "text": [
      "Computing RDMS for keypoints3d on TITAN RTX...\n"
     ]
    },
    {
     "data": {
      "application/vnd.jupyter.widget-view+json": {
       "model_id": "",
       "version_major": 2,
       "version_minor": 0
      },
      "text/plain": [
       "HBox(children=(FloatProgress(value=0.0, max=162.0), HTML(value='')))"
      ]
     },
     "metadata": {},
     "output_type": "display_data"
    },
    {
     "name": "stdout",
     "output_type": "stream",
     "text": [
      "Computing RDMS for nonfixated_pose on TITAN RTX...\n"
     ]
    },
    {
     "data": {
      "application/vnd.jupyter.widget-view+json": {
       "model_id": "",
       "version_major": 2,
       "version_minor": 0
      },
      "text/plain": [
       "HBox(children=(FloatProgress(value=0.0, max=162.0), HTML(value='')))"
      ]
     },
     "metadata": {},
     "output_type": "display_data"
    },
    {
     "name": "stdout",
     "output_type": "stream",
     "text": [
      "Computing RDMS for normal on TITAN RTX...\n"
     ]
    },
    {
     "data": {
      "application/vnd.jupyter.widget-view+json": {
       "model_id": "",
       "version_major": 2,
       "version_minor": 0
      },
      "text/plain": [
       "HBox(children=(FloatProgress(value=0.0, max=162.0), HTML(value='')))"
      ]
     },
     "metadata": {},
     "output_type": "display_data"
    },
    {
     "name": "stdout",
     "output_type": "stream",
     "text": [
      "Computing RDMS for point_matching on TITAN RTX...\n"
     ]
    },
    {
     "data": {
      "application/vnd.jupyter.widget-view+json": {
       "model_id": "",
       "version_major": 2,
       "version_minor": 0
      },
      "text/plain": [
       "HBox(children=(FloatProgress(value=0.0, max=162.0), HTML(value='')))"
      ]
     },
     "metadata": {},
     "output_type": "display_data"
    },
    {
     "name": "stdout",
     "output_type": "stream",
     "text": [
      "Computing RDMS for reshading on TITAN RTX...\n"
     ]
    },
    {
     "data": {
      "application/vnd.jupyter.widget-view+json": {
       "model_id": "",
       "version_major": 2,
       "version_minor": 0
      },
      "text/plain": [
       "HBox(children=(FloatProgress(value=0.0, max=162.0), HTML(value='')))"
      ]
     },
     "metadata": {},
     "output_type": "display_data"
    },
    {
     "name": "stdout",
     "output_type": "stream",
     "text": [
      "Computing RDMS for room_layout on TITAN RTX...\n"
     ]
    },
    {
     "data": {
      "application/vnd.jupyter.widget-view+json": {
       "model_id": "",
       "version_major": 2,
       "version_minor": 0
      },
      "text/plain": [
       "HBox(children=(FloatProgress(value=0.0, max=162.0), HTML(value='')))"
      ]
     },
     "metadata": {},
     "output_type": "display_data"
    },
    {
     "name": "stdout",
     "output_type": "stream",
     "text": [
      "Computing RDMS for segment_semantic on TITAN RTX...\n"
     ]
    },
    {
     "data": {
      "application/vnd.jupyter.widget-view+json": {
       "model_id": "",
       "version_major": 2,
       "version_minor": 0
      },
      "text/plain": [
       "HBox(children=(FloatProgress(value=0.0, max=162.0), HTML(value='')))"
      ]
     },
     "metadata": {},
     "output_type": "display_data"
    },
    {
     "name": "stdout",
     "output_type": "stream",
     "text": [
      "Computing RDMS for segment_unsup25d on TITAN RTX...\n"
     ]
    },
    {
     "data": {
      "application/vnd.jupyter.widget-view+json": {
       "model_id": "",
       "version_major": 2,
       "version_minor": 0
      },
      "text/plain": [
       "HBox(children=(FloatProgress(value=0.0, max=162.0), HTML(value='')))"
      ]
     },
     "metadata": {},
     "output_type": "display_data"
    },
    {
     "name": "stdout",
     "output_type": "stream",
     "text": [
      "Computing RDMS for segment_unsup2d on TITAN RTX...\n"
     ]
    },
    {
     "data": {
      "application/vnd.jupyter.widget-view+json": {
       "model_id": "",
       "version_major": 2,
       "version_minor": 0
      },
      "text/plain": [
       "HBox(children=(FloatProgress(value=0.0, max=162.0), HTML(value='')))"
      ]
     },
     "metadata": {},
     "output_type": "display_data"
    },
    {
     "name": "stdout",
     "output_type": "stream",
     "text": [
      "Computing RDMS for vanishing_point on TITAN RTX...\n"
     ]
    },
    {
     "data": {
      "application/vnd.jupyter.widget-view+json": {
       "model_id": "",
       "version_major": 2,
       "version_minor": 0
      },
      "text/plain": [
       "HBox(children=(FloatProgress(value=0.0, max=162.0), HTML(value='')))"
      ]
     },
     "metadata": {},
     "output_type": "display_data"
    },
    {
     "name": "stdout",
     "output_type": "stream",
     "text": [
      "\n"
     ]
    }
   ],
   "source": [
    "output_dir = 'task_rdms'\n",
    "\n",
    "for model_name in tqdm(model_names): \n",
    "    output_file = os.path.join(output_dir, model_name + '_rdms.pkl')\n",
    "    if not os.path.exists(output_file):\n",
    "        print('Computing RDMS for {} on {}...'.format(model_name, torch.cuda.get_device_name(0)))\n",
    "        model = taskonomy_network.TaskonomyEncoder()\n",
    "        model.load_state_dict(torch.load('models/' + model_name + '_' + 'encoder.pth')['state_dict'])\n",
    "        model = model.eval()\n",
    "        model = model.cuda()\n",
    "\n",
    "        mouseland_feature_maps = get_all_feature_maps(model, model_inputs)\n",
    "\n",
    "        model_rdms = {}\n",
    "        for model_layer in tqdm(mouseland_feature_maps, leave=False):\n",
    "            model_rdms[model_layer] = np.corrcoef(mouseland_feature_maps[model_layer])\n",
    "\n",
    "        with open(output_file, 'wb') as file:\n",
    "            pickle.dump(model_rdms, file)"
   ]
  },
  {
   "cell_type": "code",
   "execution_count": 16,
   "metadata": {},
   "outputs": [
    {
     "data": {
      "application/vnd.jupyter.widget-view+json": {
       "model_id": "1a4eea17ab3f4a9fabf37519a86f4547",
       "version_major": 2,
       "version_minor": 0
      },
      "text/plain": [
       "HBox(children=(FloatProgress(value=0.0, max=24.0), HTML(value='')))"
      ]
     },
     "metadata": {},
     "output_type": "display_data"
    },
    {
     "name": "stdout",
     "output_type": "stream",
     "text": [
      "Computing Latent RDM for autoencoding on TITAN RTX...\n",
      "Computing Latent RDM for class_object on TITAN RTX...\n",
      "Computing Latent RDM for class_scene on TITAN RTX...\n",
      "Computing Latent RDM for curvature on TITAN RTX...\n",
      "Computing Latent RDM for denoising on TITAN RTX...\n",
      "Computing Latent RDM for depth_euclidean on TITAN RTX...\n",
      "Computing Latent RDM for depth_zbuffer on TITAN RTX...\n",
      "Computing Latent RDM for edge_occlusion on TITAN RTX...\n",
      "Computing Latent RDM for edge_texture on TITAN RTX...\n",
      "Computing Latent RDM for egomotion on TITAN RTX...\n",
      "Computing Latent RDM for fixated_pose on TITAN RTX...\n",
      "Computing Latent RDM for inpainting on TITAN RTX...\n",
      "Computing Latent RDM for jigsaw on TITAN RTX...\n",
      "Computing Latent RDM for keypoints2d on TITAN RTX...\n",
      "Computing Latent RDM for keypoints3d on TITAN RTX...\n",
      "Computing Latent RDM for nonfixated_pose on TITAN RTX...\n",
      "Computing Latent RDM for normal on TITAN RTX...\n",
      "Computing Latent RDM for point_matching on TITAN RTX...\n",
      "Computing Latent RDM for reshading on TITAN RTX...\n",
      "Computing Latent RDM for room_layout on TITAN RTX...\n",
      "Computing Latent RDM for segment_semantic on TITAN RTX...\n",
      "Computing Latent RDM for segment_unsup25d on TITAN RTX...\n",
      "Computing Latent RDM for segment_unsup2d on TITAN RTX...\n",
      "Computing Latent RDM for vanishing_point on TITAN RTX...\n",
      "\n"
     ]
    }
   ],
   "source": [
    "output_file = 'taskonomy_zspace_rdms.pkl'\n",
    "\n",
    "model_rdms = {}\n",
    "for model_name in tqdm(model_names): \n",
    "    if not os.path.exists(output_file):\n",
    "        print('Computing Latent RDM for {} on {}...'.format(model_name, torch.cuda.get_device_name(0)))\n",
    "        model = taskonomy_network.TaskonomyEncoder()\n",
    "        model.load_state_dict(torch.load('models/' + model_name + '_' + 'encoder.pth')['state_dict'])\n",
    "        model = model.eval()\n",
    "        model = model.cuda()\n",
    "\n",
    "        mouseland_feature_maps = get_all_feature_maps(model, model_inputs)\n",
    "        model_rdms[model_name] = np.corrcoef(mouseland_feature_maps['GroupNorm-1'])\n",
    "\n",
    "with open(output_file, 'wb') as file:\n",
    "    pickle.dump(model_rdms, file)"
   ]
  },
  {
   "cell_type": "code",
   "execution_count": null,
   "metadata": {},
   "outputs": [],
   "source": []
  }
 ],
 "metadata": {
  "kernelspec": {
   "display_name": "Python 3",
   "language": "python",
   "name": "python3"
  },
  "language_info": {
   "codemirror_mode": {
    "name": "ipython",
    "version": 3
   },
   "file_extension": ".py",
   "mimetype": "text/x-python",
   "name": "python",
   "nbconvert_exporter": "python",
   "pygments_lexer": "ipython3",
   "version": "3.7.6"
  }
 },
 "nbformat": 4,
 "nbformat_minor": 4
}
