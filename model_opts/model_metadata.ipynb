{
 "cells": [
  {
   "cell_type": "code",
   "execution_count": 1,
   "metadata": {},
   "outputs": [],
   "source": [
    "import warnings; warnings.filterwarnings(\"ignore\")"
   ]
  },
  {
   "cell_type": "code",
   "execution_count": 2,
   "metadata": {},
   "outputs": [
    {
     "data": {
      "text/html": [
       "<style>.p-Widget.jp-OutputPrompt.jp-OutputArea-prompt:empty {padding: 0; border: 0;}</style>"
      ],
      "text/plain": [
       "<IPython.core.display.HTML object>"
      ]
     },
     "metadata": {},
     "output_type": "display_data"
    }
   ],
   "source": [
    "from IPython.core.display import HTML; \n",
    "display(HTML(\"<style>.p-Widget.jp-OutputPrompt.jp-OutputArea-prompt:empty {padding: 0; border: 0;}</style>\"));"
   ]
  },
  {
   "cell_type": "code",
   "execution_count": 3,
   "metadata": {},
   "outputs": [],
   "source": [
    "import numpy as np\n",
    "import pandas as pd\n",
    "from tqdm import tqdm_notebook as tqdm\n",
    "from collections import OrderedDict\n",
    "from copy import deepcopy\n",
    "from glob import glob\n",
    "\n",
    "import torch\n",
    "import torchvision.models as models\n",
    "from torch.autograd import Variable\n",
    "import torchvision.transforms as transforms\n",
    "\n",
    "import os, sys\n",
    "import json, pickle\n",
    "\n",
    "sys.path.append('..')"
   ]
  },
  {
   "cell_type": "code",
   "execution_count": 4,
   "metadata": {},
   "outputs": [],
   "source": [
    "sys.path.append('../model_options')\n",
    "from feature_extraction import *\n",
    "from model_options import *"
   ]
  },
  {
   "cell_type": "code",
   "execution_count": 5,
   "metadata": {},
   "outputs": [
    {
     "data": {
      "text/plain": [
       "'TITAN Xp'"
      ]
     },
     "execution_count": 5,
     "metadata": {},
     "output_type": "execute_result"
    }
   ],
   "source": [
    "torch.cuda.set_device(3)\n",
    "torch.cuda.get_device_name(3)"
   ]
  },
  {
   "cell_type": "markdown",
   "metadata": {},
   "source": [
    "### Model Metadata Build"
   ]
  },
  {
   "cell_type": "code",
   "execution_count": 6,
   "metadata": {},
   "outputs": [],
   "source": [
    "def count_parameters(model):\n",
    "    return sum(p.numel() for p in model.parameters() if p.requires_grad)"
   ]
  },
  {
   "cell_type": "code",
   "execution_count": 7,
   "metadata": {},
   "outputs": [],
   "source": [
    "model_options = get_model_options(model_type='imagenet', train_type='random')"
   ]
  },
  {
   "cell_type": "code",
   "execution_count": 10,
   "metadata": {},
   "outputs": [],
   "source": [
    "output_file = 'model_metadata.json'\n",
    "if os.path.exists(output_file):\n",
    "    model_metadata = json.load(open(output_file,'r'))\n",
    "\n",
    "if not os.path.exists(output_file):\n",
    "    model_metadata = {}\n",
    "    for model_option in tqdm(model_options):\n",
    "    #for model_option in tqdm(list(model_options.keys())[:3]):\n",
    "        model_name = model_options[model_option]['model_name']\n",
    "        model = eval(model_options[model_option]['call'])\n",
    "        model = model.eval()\n",
    "        model = model.cuda()\n",
    "        parameter_count = count_parameters(model)\n",
    "        model_inputs = Variable(torch.randn(1,3,224,224)).cuda()\n",
    "        feature_maps = get_all_feature_maps(model, model_inputs, flatten=False)\n",
    "        model_layer_order = [model_layer for model_layer in feature_maps]\n",
    "        feature_map_shapes = [feature_maps[model_layer].squeeze().shape for model_layer in feature_maps]\n",
    "        feature_map_counts = [feature_maps[model_layer].reshape(1,-1).shape[1] for model_layer in feature_maps]\n",
    "        total_feature_count = int(np.array(feature_map_counts).sum())\n",
    "        model_metadata[model_name] = {'layer_count': len(feature_maps.keys()),\n",
    "                                      'parameter_count': parameter_count,\n",
    "                                      'total_feature_count': total_feature_count,\n",
    "                                      'layer_metadata': {'model_layer_order': model_layer_order,\n",
    "                                                         'feature_map_shapes': feature_map_shapes,\n",
    "                                                         'feature_map_counts': feature_map_counts}}\n",
    "\n",
    "    with open('model_metadata.json', 'w') as file:\n",
    "        json.dump(model_metadata, file)"
   ]
  },
  {
   "cell_type": "code",
   "execution_count": 11,
   "metadata": {},
   "outputs": [],
   "source": [
    "model_metadata_df = pd.read_json('model_metadata.json', orient='index')\n",
    "model_metadata_df['model_name'] = model_metadata_df.index\n",
    "model_metadata_df.drop(columns='layer_metadata', inplace=True)\n",
    "model_metadata_df.to_csv('model_metadata.csv', index = None)"
   ]
  },
  {
   "cell_type": "markdown",
   "metadata": {},
   "source": [
    "### Model Metadata By Model String"
   ]
  },
  {
   "cell_type": "code",
   "execution_count": 12,
   "metadata": {},
   "outputs": [],
   "source": [
    "model_options = get_model_options(model_type='imagenet')\n",
    "model_typology = pd.read_csv('model_typology.csv')\n",
    "model_typology_dict = model_typology.set_index('model_name').to_dict('index')"
   ]
  },
  {
   "cell_type": "code",
   "execution_count": 14,
   "metadata": {},
   "outputs": [
    {
     "data": {
      "application/vnd.jupyter.widget-view+json": {
       "model_id": "04a2b3e60811479e93cc33d7057dbaed",
       "version_major": 2,
       "version_minor": 0
      },
      "text/plain": [
       "HBox(children=(FloatProgress(value=0.0, max=60.0), HTML(value='')))"
      ]
     },
     "metadata": {},
     "output_type": "display_data"
    },
    {
     "name": "stdout",
     "output_type": "stream",
     "text": [
      "\n"
     ]
    }
   ],
   "source": [
    "model_metadata_bystring = {}\n",
    "for model_option in tqdm(model_options):\n",
    "#for model_option in tqdm(list(model_options.keys())[:3]):\n",
    "    model_name = model_options[model_option]['model_name']\n",
    "    train_type = model_options[model_option]['train_type']\n",
    "    formal_model_name = model_typology_dict[model_name]['formal_model_name']\n",
    "    model_metadata_bystring[model_option] = {'model_name': model_name, 'formal_model_name': formal_model_name,\n",
    "                                             'train_type': train_type, **model_metadata[model_name]}\n",
    "\n",
    "if 'save_by_string' in globals():\n",
    "    with open('model_metadata_bystring.json', 'w') as file:\n",
    "        json.dump(model_metadata_bystring, file)"
   ]
  },
  {
   "cell_type": "code",
   "execution_count": null,
   "metadata": {},
   "outputs": [],
   "source": []
  }
 ],
 "metadata": {
  "kernelspec": {
   "display_name": "Python 3",
   "language": "python",
   "name": "python3"
  },
  "language_info": {
   "codemirror_mode": {
    "name": "ipython",
    "version": 3
   },
   "file_extension": ".py",
   "mimetype": "text/x-python",
   "name": "python",
   "nbconvert_exporter": "python",
   "pygments_lexer": "ipython3",
   "version": "3.7.6"
  }
 },
 "nbformat": 4,
 "nbformat_minor": 4
}
