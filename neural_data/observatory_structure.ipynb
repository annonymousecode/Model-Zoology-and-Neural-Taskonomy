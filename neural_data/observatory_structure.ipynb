{
 "cells": [
  {
   "cell_type": "code",
   "execution_count": 1,
   "metadata": {},
   "outputs": [],
   "source": [
    "import os, pickle\n",
    "import numpy as np\n",
    "import pandas as pd\n",
    "from tqdm import tqdm as tqdm"
   ]
  },
  {
   "cell_type": "code",
   "execution_count": 2,
   "metadata": {},
   "outputs": [],
   "source": [
    "from allensdk.core.brain_observatory_cache import BrainObservatoryCache"
   ]
  },
  {
   "cell_type": "code",
   "execution_count": 3,
   "metadata": {},
   "outputs": [],
   "source": [
    "#DATA_DIR = '/data/allen-brain-observatory/visual-coding-2p/' # use the following path for AWS\n",
    "#DATA_DIR = 'BrainObservatoryData'\n",
    "DATA_DIR = '/storage/abarbu/allen-brain-observatory/visual-coding-2p/'\n",
    "MANIFEST_FILE = os.path.join(DATA_DIR, 'manifest.json')\n",
    "boc = BrainObservatoryCache(manifest_file=MANIFEST_FILE)"
   ]
  },
  {
   "cell_type": "code",
   "execution_count": 4,
   "metadata": {},
   "outputs": [],
   "source": [
    "BAD_CONTAINER_IDS = [511510998, 511510681, 517328083, 527676429, 527550471, 530243910, 570278595, 571039045, \n",
    "                     585905043, 587695553, 596780703, 598134911, 599587151, 605113106]"
   ]
  },
  {
   "cell_type": "code",
   "execution_count": 5,
   "metadata": {},
   "outputs": [],
   "source": [
    "experiments = boc.get_ophys_experiments(session_types=['three_session_B'])"
   ]
  },
  {
   "cell_type": "code",
   "execution_count": 6,
   "metadata": {},
   "outputs": [
    {
     "data": {
      "text/plain": [
       "{'id': 645474010,\n",
       " 'imaging_depth': 375,\n",
       " 'targeted_structure': 'VISl',\n",
       " 'cre_line': 'Rbp4-Cre_KL100',\n",
       " 'reporter_line': 'Ai93(TITL-GCaMP6f)',\n",
       " 'acquisition_age_days': 112,\n",
       " 'experiment_container_id': 643590699,\n",
       " 'session_type': 'three_session_B',\n",
       " 'donor_name': '344122',\n",
       " 'specimen_name': 'Rbp4-Cre_KL100;Camk2a-tTA;Ai93-344122',\n",
       " 'fail_eye_tracking': False}"
      ]
     },
     "execution_count": 6,
     "metadata": {},
     "output_type": "execute_result"
    }
   ],
   "source": [
    "next(iter(experiments))"
   ]
  },
  {
   "cell_type": "markdown",
   "metadata": {},
   "source": [
    "#### Notes on Dataset Structure\n",
    "* 119 Images (118 Natural Scenes; 1 Gray Screen)\n",
    "* 5950 Trials (50 Trials Per Image)\n",
    "* 6 Visual Areas\n",
    "* 12 Cre Lines\n",
    "* ~ 4/5 Cortical Layers, approximated by Imaging Depth"
   ]
  },
  {
   "cell_type": "markdown",
   "metadata": {},
   "source": [
    "#### Notes on Dictionary Structure\n",
    "* [Visual Area] > [Cre Line] > [Imaging Depth]"
   ]
  },
  {
   "cell_type": "code",
   "execution_count": 7,
   "metadata": {},
   "outputs": [],
   "source": [
    "brain_data_dir = 'neural_data/'"
   ]
  },
  {
   "cell_type": "code",
   "execution_count": 8,
   "metadata": {},
   "outputs": [],
   "source": [
    "response_dict_bytrial_bydepth = pickle.load(open(brain_data_dir + 'response_dict_bytrial_bydepth.pkl', 'rb'))\n",
    "response_dict_bydepth = pickle.load(open(brain_data_dir + 'response_dict_average_bydepth.pkl', 'rb'))\n",
    "response_dict_bytrial = pickle.load(open(brain_data_dir + 'response_dict_bytrial.pkl', 'rb'))\n",
    "response_dict = pickle.load(open(brain_data_dir + 'response_dict_average.pkl', 'rb'))"
   ]
  },
  {
   "cell_type": "markdown",
   "metadata": {},
   "source": [
    "#### Cell Specimen Metadata"
   ]
  },
  {
   "cell_type": "code",
   "execution_count": 9,
   "metadata": {},
   "outputs": [
    {
     "data": {
      "text/plain": [
       "(456, 456)"
      ]
     },
     "execution_count": 9,
     "metadata": {},
     "output_type": "execute_result"
    }
   ],
   "source": [
    "len(experiments), len(boc.get_experiment_containers())"
   ]
  },
  {
   "cell_type": "code",
   "execution_count": 10,
   "metadata": {},
   "outputs": [],
   "source": [
    "cell_specimens = pd.DataFrame(boc.get_cell_specimens())"
   ]
  },
  {
   "cell_type": "code",
   "execution_count": 11,
   "metadata": {},
   "outputs": [
    {
     "data": {
      "text/plain": [
       "Index(['p_run_mod_sg', 'tlr1_id', 'image_sel_ns', 'tlr1_name', 'g_dsi_dg',\n",
       "       'p_ns', 'specimen_id', 'p_dg', 'time_to_peak_sg', 'pref_dir_dg',\n",
       "       'dsi_dg', 'rf_overlap_index_lsn', 'rf_distance_lsn', 'tld1_name',\n",
       "       'osi_dg', 'pref_image_ns', 'experiment_container_id', 'peak_dff_sg',\n",
       "       'osi_sg', 'rf_center_on_y_lsn', 'time_to_peak_ns', 'rf_chi2_lsn',\n",
       "       'failed_experiment_container', 'reliability_ns', 'tld1_id',\n",
       "       'reliability_sg', 'imaging_depth', 'run_mod_ns', 'rf_center_on_x_lsn',\n",
       "       'area', 'peak_dff_dg', 'p_sg', 'rf_area_on_lsn', 'tld2_name',\n",
       "       'pref_ori_sg', 'rf_area_off_lsn', 'p_run_mod_ns', 'pref_phase_sg',\n",
       "       'rf_center_off_y_lsn', 'pref_tf_dg', 'tfdi_dg', 'cell_specimen_id',\n",
       "       'reliability_dg', 'tld2_id', 'run_mod_dg', 'p_run_mod_dg',\n",
       "       'reliability_nm1_a', 'reliability_nm1_c', 'reliability_nm1_b',\n",
       "       'rf_center_off_x_lsn', 'peak_dff_ns', 'donor_full_genotype', 'all_stim',\n",
       "       'run_mod_sg', 'pref_sf_sg', 'sfdi_sg', 'g_osi_sg', 'g_osi_dg',\n",
       "       'reliability_nm3', 'reliability_nm2'],\n",
       "      dtype='object')"
      ]
     },
     "execution_count": 11,
     "metadata": {},
     "output_type": "execute_result"
    }
   ],
   "source": [
    "cell_specimens.columns"
   ]
  },
  {
   "cell_type": "code",
   "execution_count": 12,
   "metadata": {},
   "outputs": [
    {
     "name": "stdout",
     "output_type": "stream",
     "text": [
      "p_run_mod_sg                                                                 NaN\n",
      "tlr1_id                                                                265943423\n",
      "image_sel_ns                                                                 NaN\n",
      "tlr1_name                                                     Ai93(TITL-GCaMP6f)\n",
      "g_dsi_dg                                                                     NaN\n",
      "p_ns                                                                         NaN\n",
      "specimen_id                                                            502185555\n",
      "p_dg                                                                         NaN\n",
      "time_to_peak_sg                                                              NaN\n",
      "pref_dir_dg                                                                  NaN\n",
      "dsi_dg                                                                       NaN\n",
      "rf_overlap_index_lsn                                                         NaN\n",
      "rf_distance_lsn                                                              NaN\n",
      "tld1_name                                                         Scnn1a-Tg3-Cre\n",
      "osi_dg                                                                       NaN\n",
      "pref_image_ns                                                                NaN\n",
      "experiment_container_id                                                511498742\n",
      "peak_dff_sg                                                                  NaN\n",
      "osi_sg                                                                       NaN\n",
      "rf_center_on_y_lsn                                                           NaN\n",
      "time_to_peak_ns                                                              NaN\n",
      "rf_chi2_lsn                                                                    1\n",
      "failed_experiment_container                                                False\n",
      "reliability_ns                                                               NaN\n",
      "tld1_id                                                                177837516\n",
      "reliability_sg                                                               NaN\n",
      "imaging_depth                                                                350\n",
      "run_mod_ns                                                                   NaN\n",
      "rf_center_on_x_lsn                                                           NaN\n",
      "area                                                                        VISp\n",
      "peak_dff_dg                                                                  NaN\n",
      "p_sg                                                                         NaN\n",
      "rf_area_on_lsn                                                               NaN\n",
      "tld2_name                                                             Camk2a-tTA\n",
      "pref_ori_sg                                                                  NaN\n",
      "rf_area_off_lsn                                                              NaN\n",
      "p_run_mod_ns                                                                 NaN\n",
      "pref_phase_sg                                                                NaN\n",
      "rf_center_off_y_lsn                                                          NaN\n",
      "pref_tf_dg                                                                   NaN\n",
      "tfdi_dg                                                                      NaN\n",
      "cell_specimen_id                                                       517397327\n",
      "reliability_dg                                                               NaN\n",
      "tld2_id                                                              1.77837e+08\n",
      "run_mod_dg                                                                   NaN\n",
      "p_run_mod_dg                                                                 NaN\n",
      "reliability_nm1_a                                                            NaN\n",
      "reliability_nm1_c                                                      0.0623644\n",
      "reliability_nm1_b                                                            NaN\n",
      "rf_center_off_x_lsn                                                          NaN\n",
      "peak_dff_ns                                                                  NaN\n",
      "donor_full_genotype            Scnn1a-Tg3-Cre/wt;Camk2a-tTA/wt;Ai93(TITL-GCaM...\n",
      "all_stim                                                                   False\n",
      "run_mod_sg                                                                   NaN\n",
      "pref_sf_sg                                                                   NaN\n",
      "sfdi_sg                                                                      NaN\n",
      "g_osi_sg                                                                     NaN\n",
      "g_osi_dg                                                                     NaN\n",
      "reliability_nm3                                                              NaN\n",
      "reliability_nm2                                                        0.0993428\n",
      "Name: 0, dtype: object\n"
     ]
    }
   ],
   "source": [
    "print(cell_specimens.loc[0,:])"
   ]
  },
  {
   "cell_type": "code",
   "execution_count": 13,
   "metadata": {},
   "outputs": [
    {
     "data": {
      "text/plain": [
       "256"
      ]
     },
     "execution_count": 13,
     "metadata": {},
     "output_type": "execute_result"
    }
   ],
   "source": [
    "len(np.unique(np.array([exp['donor_name'] for exp in experiments])))"
   ]
  },
  {
   "cell_type": "code",
   "execution_count": 14,
   "metadata": {},
   "outputs": [
    {
     "data": {
      "text/plain": [
       "256"
      ]
     },
     "execution_count": 14,
     "metadata": {},
     "output_type": "execute_result"
    }
   ],
   "source": [
    "len(cell_specimens['specimen_id'].unique())"
   ]
  },
  {
   "cell_type": "code",
   "execution_count": 15,
   "metadata": {},
   "outputs": [
    {
     "data": {
      "text/plain": [
       "63251"
      ]
     },
     "execution_count": 15,
     "metadata": {},
     "output_type": "execute_result"
    }
   ],
   "source": [
    "len(cell_specimens['cell_specimen_id'].unique())"
   ]
  },
  {
   "cell_type": "code",
   "execution_count": 16,
   "metadata": {},
   "outputs": [
    {
     "data": {
      "text/plain": [
       "22"
      ]
     },
     "execution_count": 16,
     "metadata": {},
     "output_type": "execute_result"
    }
   ],
   "source": [
    "len(cell_specimens['donor_full_genotype'].unique())"
   ]
  },
  {
   "cell_type": "code",
   "execution_count": 17,
   "metadata": {},
   "outputs": [
    {
     "data": {
      "text/plain": [
       "array(['VISp', 'VISal', 'VISl', 'VISpm', 'VISam', 'VISrl'], dtype=object)"
      ]
     },
     "execution_count": 17,
     "metadata": {},
     "output_type": "execute_result"
    }
   ],
   "source": [
    "cell_specimens['area'].unique()"
   ]
  },
  {
   "cell_type": "code",
   "execution_count": 18,
   "metadata": {},
   "outputs": [
    {
     "data": {
      "text/plain": [
       "[('specimen_id', 256)]"
      ]
     },
     "execution_count": 18,
     "metadata": {},
     "output_type": "execute_result"
    }
   ],
   "source": [
    "[(col_name, len(cell_specimens[col_name].unique())) for col_name in cell_specimens.columns if len(cell_specimens[col_name].unique()) == 256]"
   ]
  },
  {
   "cell_type": "code",
   "execution_count": 19,
   "metadata": {},
   "outputs": [
    {
     "data": {
      "text/plain": [
       "array(['Scnn1a-Tg3-Cre', 'Rbp4-Cre_KL100', 'Rorb-IRES2-Cre',\n",
       "       'Cux2-CreERT2', 'Emx1-IRES-Cre', 'Nr5a1-Cre', 'Sst-IRES-Cre',\n",
       "       'Vip-IRES-Cre', 'Ntsr1-Cre_GN220', 'Fezf2-CreER',\n",
       "       'Slc17a7-IRES2-Cre', 'Tlx3-Cre_PL56', 'Pvalb-IRES-Cre'],\n",
       "      dtype=object)"
      ]
     },
     "execution_count": 19,
     "metadata": {},
     "output_type": "execute_result"
    }
   ],
   "source": [
    "cell_specimens['tld1_name'].unique()"
   ]
  },
  {
   "cell_type": "code",
   "execution_count": 20,
   "metadata": {},
   "outputs": [
    {
     "data": {
      "text/plain": [
       "array([350, 375, 275, 175, 335, 300, 325, 320, 265, 250, 365, 285, 550,\n",
       "       400, 276, 625, 570, 390, 195, 225, 200, 205, 185])"
      ]
     },
     "execution_count": 20,
     "metadata": {},
     "output_type": "execute_result"
    }
   ],
   "source": [
    "cell_specimens['imaging_depth'].unique()"
   ]
  },
  {
   "cell_type": "code",
   "execution_count": 21,
   "metadata": {},
   "outputs": [
    {
     "data": {
      "text/plain": [
       "(40064, 60)"
      ]
     },
     "execution_count": 21,
     "metadata": {},
     "output_type": "execute_result"
    }
   ],
   "source": [
    "cell_specimens[~cell_specimens['p_ns'].isna()].shape"
   ]
  },
  {
   "cell_type": "code",
   "execution_count": 22,
   "metadata": {},
   "outputs": [
    {
     "data": {
      "text/plain": [
       "(63251, 60)"
      ]
     },
     "execution_count": 22,
     "metadata": {},
     "output_type": "execute_result"
    }
   ],
   "source": [
    "cell_specimens.shape"
   ]
  },
  {
   "cell_type": "markdown",
   "metadata": {},
   "source": [
    "#### Experiment Information + Structure"
   ]
  },
  {
   "cell_type": "code",
   "execution_count": 23,
   "metadata": {},
   "outputs": [
    {
     "data": {
      "text/plain": [
       "{'id': 645474010,\n",
       " 'imaging_depth': 375,\n",
       " 'targeted_structure': 'VISl',\n",
       " 'cre_line': 'Rbp4-Cre_KL100',\n",
       " 'reporter_line': 'Ai93(TITL-GCaMP6f)',\n",
       " 'acquisition_age_days': 112,\n",
       " 'experiment_container_id': 643590699,\n",
       " 'session_type': 'three_session_B',\n",
       " 'donor_name': '344122',\n",
       " 'specimen_name': 'Rbp4-Cre_KL100;Camk2a-tTA;Ai93-344122',\n",
       " 'fail_eye_tracking': False}"
      ]
     },
     "execution_count": 23,
     "metadata": {},
     "output_type": "execute_result"
    }
   ],
   "source": [
    "next(iter(experiments))"
   ]
  },
  {
   "cell_type": "code",
   "execution_count": 24,
   "metadata": {},
   "outputs": [],
   "source": [
    "events = boc.get_ophys_experiment_events(645474010)\n",
    "data = boc.get_ophys_experiment_data(645474010)\n",
    "stim_table = data.get_stimulus_table('natural_scenes')"
   ]
  },
  {
   "cell_type": "code",
   "execution_count": 25,
   "metadata": {},
   "outputs": [
    {
     "data": {
      "text/plain": [
       "(25, 117484)"
      ]
     },
     "execution_count": 25,
     "metadata": {},
     "output_type": "execute_result"
    }
   ],
   "source": [
    "events.shape"
   ]
  },
  {
   "cell_type": "code",
   "execution_count": 26,
   "metadata": {},
   "outputs": [
    {
     "data": {
      "text/plain": [
       "{'sex': 'female',\n",
       " 'targeted_structure': 'VISl',\n",
       " 'ophys_experiment_id': 645474010,\n",
       " 'experiment_container_id': 643590699,\n",
       " 'excitation_lambda': '910 nanometers',\n",
       " 'indicator': 'GCaMP6f',\n",
       " 'fov': '400x400 microns (512 x 512 pixels)',\n",
       " 'genotype': 'Rbp4-Cre_KL100/wt;Camk2a-tTA/wt;Ai93(TITL-GCaMP6f)/wt',\n",
       " 'session_start_time': datetime.datetime(2017, 10, 31, 10, 17, 36),\n",
       " 'session_type': 'three_session_B',\n",
       " 'specimen_name': 'Rbp4-Cre_KL100;Camk2a-tTA;Ai93-344122',\n",
       " 'cre_line': 'Rbp4-Cre_KL100/wt',\n",
       " 'imaging_depth_um': 375,\n",
       " 'age_days': 113,\n",
       " 'device': 'Nikon A1R-MP multiphoton microscope',\n",
       " 'device_name': 'CAM2P.4',\n",
       " 'pipeline_version': '3.0'}"
      ]
     },
     "execution_count": 26,
     "metadata": {},
     "output_type": "execute_result"
    }
   ],
   "source": [
    "data.get_metadata()"
   ]
  },
  {
   "cell_type": "code",
   "execution_count": 27,
   "metadata": {},
   "outputs": [
    {
     "data": {
      "text/plain": [
       "array([662220084, 662220119, 662220063, 662220185, 662220021, 662220048,\n",
       "       662220126, 662220112, 662220105, 662220098, 662220091, 662220001,\n",
       "       662220053, 662220008, 662220209, 662219987, 662220191, 662220037,\n",
       "       662220173, 662219952, 662219966, 662220221, 662219980, 662219994,\n",
       "       662219973])"
      ]
     },
     "execution_count": 27,
     "metadata": {},
     "output_type": "execute_result"
    }
   ],
   "source": [
    "data.get_cell_specimen_ids()"
   ]
  },
  {
   "cell_type": "code",
   "execution_count": 28,
   "metadata": {},
   "outputs": [
    {
     "data": {
      "text/plain": [
       "25"
      ]
     },
     "execution_count": 28,
     "metadata": {},
     "output_type": "execute_result"
    }
   ],
   "source": [
    "data.number_of_cells"
   ]
  },
  {
   "cell_type": "code",
   "execution_count": 29,
   "metadata": {},
   "outputs": [
    {
     "data": {
      "text/plain": [
       "25"
      ]
     },
     "execution_count": 29,
     "metadata": {},
     "output_type": "execute_result"
    }
   ],
   "source": [
    "len(data.get_cell_specimen_ids())"
   ]
  },
  {
   "cell_type": "code",
   "execution_count": 30,
   "metadata": {},
   "outputs": [
    {
     "data": {
      "text/plain": [
       "(5950, 25)"
      ]
     },
     "execution_count": 30,
     "metadata": {},
     "output_type": "execute_result"
    }
   ],
   "source": [
    "# number of trials (119 images * 50 trials) by number of neurons in sample from area VISl, cre_line Rbp4 at imaging depth of 375\n",
    "# this array is the response of each cell to each trial, unaveraged\n",
    "response_dict_bytrial_bydepth['VISl']['Rbp4'][375][0][0].shape"
   ]
  },
  {
   "cell_type": "code",
   "execution_count": 31,
   "metadata": {},
   "outputs": [
    {
     "data": {
      "text/plain": [
       "array([  0.,   1.,   2.,   3.,   4.,   5.,   6.,   7.,   8.,   9.,  10.,\n",
       "        11.,  12.,  13.,  14.,  15.,  16.,  17.,  18.,  19.,  20.,  21.,\n",
       "        22.,  23.,  24.,  25.,  26.,  27.,  28.,  29.,  30.,  31.,  32.,\n",
       "        33.,  34.,  35.,  36.,  37.,  38.,  39.,  40.,  41.,  42.,  43.,\n",
       "        44.,  45.,  46.,  47.,  48.,  49.,  50.,  51.,  52.,  53.,  54.,\n",
       "        55.,  56.,  57.,  58.,  59.,  60.,  61.,  62.,  63.,  64.,  65.,\n",
       "        66.,  67.,  68.,  69.,  70.,  71.,  72.,  73.,  74.,  75.,  76.,\n",
       "        77.,  78.,  79.,  80.,  81.,  82.,  83.,  84.,  85.,  86.,  87.,\n",
       "        88.,  89.,  90.,  91.,  92.,  93.,  94.,  95.,  96.,  97.,  98.,\n",
       "        99., 100., 101., 102., 103., 104., 105., 106., 107., 108., 109.,\n",
       "       110., 111., 112., 113., 114., 115., 116., 117.,  -1.])"
      ]
     },
     "execution_count": 31,
     "metadata": {},
     "output_type": "execute_result"
    }
   ],
   "source": [
    "# the second dimension of response_dict_bytrial is an array that lists the images number for each of the 119 images + 50 trials\n",
    "response_dict_bytrial_bydepth['VISl']['Rbp4'][375][0][1][0:-1:50]"
   ]
  },
  {
   "cell_type": "code",
   "execution_count": 32,
   "metadata": {},
   "outputs": [
    {
     "data": {
      "text/plain": [
       "(119, 25)"
      ]
     },
     "execution_count": 32,
     "metadata": {},
     "output_type": "execute_result"
    }
   ],
   "source": [
    "# number of images (119 images) by number of neurons in sample from area VISl, cre_line Rbp4 at imaging depth of 375\n",
    "response_dict_bydepth['VISl']['Rbp4'][375][0].shape"
   ]
  },
  {
   "cell_type": "code",
   "execution_count": 33,
   "metadata": {},
   "outputs": [
    {
     "data": {
      "text/plain": [
       "array([511510763, 511511089, 572606380, 573378109, 575771818, 601790879,\n",
       "       643590699])"
      ]
     },
     "execution_count": 33,
     "metadata": {},
     "output_type": "execute_result"
    }
   ],
   "source": [
    "df = cell_specimens\n",
    "#df[(df['area'] == 'VISl') & (df['tld1_name'] == 'Rbp4-Cre_KL100') & (df['imaging_depth'] == 375)].shape\n",
    "df[(df['area'] == 'VISl') & (df['tld1_name'].str.contains('Rbp4')) & (df['imaging_depth'] == 375)]['experiment_container_id'].unique()"
   ]
  },
  {
   "cell_type": "code",
   "execution_count": 34,
   "metadata": {},
   "outputs": [
    {
     "name": "stdout",
     "output_type": "stream",
     "text": [
      "7\n",
      "[25, 27, 54, 36, 45, 68, 53]\n"
     ]
    },
    {
     "data": {
      "text/plain": [
       "308"
      ]
     },
     "execution_count": 34,
     "metadata": {},
     "output_type": "execute_result"
    }
   ],
   "source": [
    "print(len(response_dict_bydepth['VISl']['Rbp4'][375]))\n",
    "print([response_dict_bydepth['VISl']['Rbp4'][375][i].shape[1] for i in range(len(response_dict_bydepth['VISl']['Rbp4'][375]))])\n",
    "np.array([response_dict_bydepth['VISl']['Rbp4'][375][i].shape[1] for i in range(len(response_dict_bydepth['VISl']['Rbp4'][375]))]).sum()"
   ]
  },
  {
   "cell_type": "code",
   "execution_count": 35,
   "metadata": {},
   "outputs": [
    {
     "data": {
      "text/plain": [
       "(119, 308)"
      ]
     },
     "execution_count": 35,
     "metadata": {},
     "output_type": "execute_result"
    }
   ],
   "source": [
    "response_dict['VISl']['Rbp4']['layer5'].shape"
   ]
  },
  {
   "cell_type": "code",
   "execution_count": 36,
   "metadata": {},
   "outputs": [
    {
     "data": {
      "text/plain": [
       "(5950, 308)"
      ]
     },
     "execution_count": 36,
     "metadata": {},
     "output_type": "execute_result"
    }
   ],
   "source": [
    "response_dict_bytrial['VISl']['Rbp4']['layer5'].shape"
   ]
  },
  {
   "cell_type": "code",
   "execution_count": 37,
   "metadata": {},
   "outputs": [
    {
     "name": "stdout",
     "output_type": "stream",
     "text": [
      "dict_keys(['VISl', 'VISpm', 'VISam', 'VISp', 'VISrl', 'VISal'])\n",
      "dict_keys(['Rbp4', 'Slc17a7', 'Emx1', 'Nr5a1', 'Fezf2', 'Rorb', 'Ntsr1', 'Cux2', 'Vip', 'Sst', 'Pvalb', 'Tlx3'])\n",
      "dict_keys([375])\n"
     ]
    }
   ],
   "source": [
    "sample_area = next(iter(response_dict_bydepth))\n",
    "sample_creline = next(iter(response_dict_bydepth[sample_area]))\n",
    "sample_depth = next(iter(response_dict_bydepth[sample_area][sample_creline]))\n",
    "sample_response_dict = response_dict_bydepth[sample_area][sample_creline][sample_depth][0]\n",
    "\n",
    "print(response_dict_bydepth.keys())\n",
    "print(response_dict_bydepth[sample_area].keys())\n",
    "print(response_dict_bydepth[sample_area][sample_creline].keys())"
   ]
  },
  {
   "cell_type": "code",
   "execution_count": 38,
   "metadata": {},
   "outputs": [
    {
     "name": "stdout",
     "output_type": "stream",
     "text": [
      "dict_keys(['VISl', 'VISpm', 'VISam', 'VISp', 'VISrl', 'VISal'])\n",
      "dict_keys(['Rbp4', 'Slc17a7', 'Emx1', 'Nr5a1', 'Fezf2', 'Rorb', 'Ntsr1', 'Cux2', 'Vip', 'Sst', 'Pvalb', 'Tlx3'])\n"
     ]
    }
   ],
   "source": [
    "print(response_dict.keys())\n",
    "print(response_dict[list(response_dict.keys())[0]].keys())"
   ]
  },
  {
   "cell_type": "code",
   "execution_count": 39,
   "metadata": {},
   "outputs": [
    {
     "data": {
      "text/plain": [
       "(119, 308)"
      ]
     },
     "execution_count": 39,
     "metadata": {},
     "output_type": "execute_result"
    }
   ],
   "source": [
    "response_dict['VISl']['Rbp4']['layer5'].shape"
   ]
  },
  {
   "cell_type": "code",
   "execution_count": null,
   "metadata": {},
   "outputs": [],
   "source": []
  }
 ],
 "metadata": {
  "kernelspec": {
   "display_name": "AllenSDK",
   "language": "python",
   "name": "allensdk"
  },
  "language_info": {
   "codemirror_mode": {
    "name": "ipython",
    "version": 3
   },
   "file_extension": ".py",
   "mimetype": "text/x-python",
   "name": "python",
   "nbconvert_exporter": "python",
   "pygments_lexer": "ipython3",
   "version": "3.7.6"
  }
 },
 "nbformat": 4,
 "nbformat_minor": 4
}
