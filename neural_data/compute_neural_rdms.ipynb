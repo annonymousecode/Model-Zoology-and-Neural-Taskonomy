{
 "cells": [
  {
   "cell_type": "code",
   "execution_count": 1,
   "metadata": {},
   "outputs": [],
   "source": [
    "import warnings\n",
    "warnings.filterwarnings(\"ignore\")"
   ]
  },
  {
   "cell_type": "code",
   "execution_count": 2,
   "metadata": {},
   "outputs": [],
   "source": [
    "import os, pickle\n",
    "import numpy as np\n",
    "import pandas as pd\n",
    "from tqdm import tqdm_notebook as tqdm"
   ]
  },
  {
   "cell_type": "code",
   "execution_count": 7,
   "metadata": {},
   "outputs": [],
   "source": [
    "cell_responses = pickle.load(open('cell_response_average.pkl', 'rb'))\n",
    "cell_data = pd.read_csv(os.path.join(data_saver_dir, 'cell_data_plus.csv'))\n",
    "cell_subset = cell_data[(cell_data['p_run_mod_ns'] == False) & \n",
    "                         (cell_data['splithalf_r'] > 0.75)]['cell_specimen_id'].to_list()"
   ]
  },
  {
   "cell_type": "code",
   "execution_count": null,
   "metadata": {},
   "outputs": [],
   "source": [
    "brain_rdms = {}\n",
    "for area in sorted(cell_data['area'].unique()):\n",
    "    brain_rdms[area] = {}\n",
    "    for layer in sorted(cell_data[cell_data['area'] == area]['layer'].unique()):\n",
    "        neural_site_subset = cell_data[(cell_data['area'] == area) & (cell_data['layer'] == layer)]['cell_specimen_id']\n",
    "        target_cells = [cell for cell in neural_site_subset if cell in cell_subset]\n",
    "        target_cell_responses = np.stack([cell_responses[cell] for cell in target_cells]).transpose()\n",
    "        brain_rdms[area][layer] = np.corrcoef(target_cell_responses)"
   ]
  },
  {
   "cell_type": "code",
   "execution_count": null,
   "metadata": {},
   "outputs": [],
   "source": [
    "with open('brain_rdms.pkl', 'wb') as file:\n",
    "    pickle.dump(brain_rdms, file)"
   ]
  },
  {
   "cell_type": "code",
   "execution_count": null,
   "metadata": {},
   "outputs": [],
   "source": []
  }
 ],
 "metadata": {
  "kernelspec": {
   "display_name": "Python 3",
   "language": "python",
   "name": "python3"
  },
  "language_info": {
   "codemirror_mode": {
    "name": "ipython",
    "version": 3
   },
   "file_extension": ".py",
   "mimetype": "text/x-python",
   "name": "python",
   "nbconvert_exporter": "python",
   "pygments_lexer": "ipython3",
   "version": "3.7.6"
  }
 },
 "nbformat": 4,
 "nbformat_minor": 4
}
