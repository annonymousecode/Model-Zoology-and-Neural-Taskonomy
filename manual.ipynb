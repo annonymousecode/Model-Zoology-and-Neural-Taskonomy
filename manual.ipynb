{
 "cells": [
  {
   "cell_type": "code",
   "execution_count": 1,
   "metadata": {},
   "outputs": [],
   "source": [
    "import warnings\n",
    "warnings.filterwarnings(\"ignore\")"
   ]
  },
  {
   "cell_type": "code",
   "execution_count": 2,
   "metadata": {},
   "outputs": [],
   "source": [
    "import matplotlib.pyplot as plt\n",
    "import pandas as pd\n",
    "import numpy as np\n",
    "import seaborn as sns\n",
    "from glob import glob\n",
    "from tqdm import tqdm_notebook as tqdm\n",
    "import os, sys, pickle\n",
    "sys.path.append('..')"
   ]
  },
  {
   "cell_type": "code",
   "execution_count": 3,
   "metadata": {},
   "outputs": [],
   "source": [
    "brain_data_dir = 'neural_data/'\n",
    "checkpoint_dir = 'data_saver/'"
   ]
  },
  {
   "cell_type": "markdown",
   "metadata": {},
   "source": [
    "### Neural Data Imports + Processing"
   ]
  },
  {
   "cell_type": "markdown",
   "metadata": {},
   "source": [
    "The easiest method to access and parse the neural data is through a combination of two files: one that contains metadata for each of the cells that appears in the optical physiology assays, and the other that contains each cell's recorded responses. In concert, these two files can be used to subset a variety of targets. Here, we'll use them to subset cells that pass a certain splithalf reliability threshold and are not significantly modulated by running speed (but are significantly modulated by natural scenes)."
   ]
  },
  {
   "cell_type": "code",
   "execution_count": 4,
   "metadata": {},
   "outputs": [],
   "source": [
    "cell_responses = pickle.load(open(brain_data_dir + 'cell_response_average.pkl', 'rb'))\n",
    "cell_data = pd.read_csv(brain_data_dir + 'cell_data_plus.csv')\n",
    "cell_subset = cell_data[((cell_data['p_run_mod_ns'].isna()) | \n",
    "                        (cell_data['p_run_mod_ns'] > 0.05)) & \n",
    "                        (cell_data['p_ns'] < 0.05) &\n",
    "                        (cell_data['splithalf_r'] > 0.75)]['cell_specimen_id'].to_list()"
   ]
  },
  {
   "cell_type": "markdown",
   "metadata": {},
   "source": [
    "### Deep Net Features: Extraction"
   ]
  },
  {
   "cell_type": "markdown",
   "metadata": {},
   "source": [
    "We've created tools that facilitate feature extraction on almost any feedforward Pytorch architecture. In the example here, we'll be showing an example of a model whose call we've prepackaged as part of a running list to accelerate multiple model comparisons."
   ]
  },
  {
   "cell_type": "code",
   "execution_count": 5,
   "metadata": {},
   "outputs": [],
   "source": [
    "sys.path.append('model_opts')\n",
    "from feature_extraction import *\n",
    "from model_options import *"
   ]
  },
  {
   "cell_type": "code",
   "execution_count": 6,
   "metadata": {},
   "outputs": [],
   "source": [
    "stimulus_set = np.load('stimulus_set.npy')"
   ]
  },
  {
   "cell_type": "code",
   "execution_count": 7,
   "metadata": {},
   "outputs": [],
   "source": [
    "model_options = get_model_options()"
   ]
  },
  {
   "cell_type": "markdown",
   "metadata": {},
   "source": [
    "Notice the full list includes both the PyTorch model zoo, and the taskonomy models."
   ]
  },
  {
   "cell_type": "code",
   "execution_count": 8,
   "metadata": {},
   "outputs": [
    {
     "data": {
      "text/plain": [
       "['vgg11_imagenet',\n",
       " 'resnet34_imagenet',\n",
       " 'densenet201_imagenet',\n",
       " 'mnasnet0_5_imagenet',\n",
       " 'r2plus1d_18_kinetics400',\n",
       " 'depth_zbuffer',\n",
       " 'nonfixated_pose',\n",
       " 'taskonomy_random']"
      ]
     },
     "execution_count": 8,
     "metadata": {},
     "output_type": "execute_result"
    }
   ],
   "source": [
    "list(model_options.keys())[1::9]"
   ]
  },
  {
   "cell_type": "markdown",
   "metadata": {},
   "source": [
    "We also include a number of standard image transforms, of which we most commonly use *imagenet_from_numpy*."
   ]
  },
  {
   "cell_type": "code",
   "execution_count": 9,
   "metadata": {},
   "outputs": [
    {
     "data": {
      "text/plain": [
       "['imagenet_from_numpy', 'imagenet', 'inception', 'segmentation', 'detection']"
      ]
     },
     "execution_count": 9,
     "metadata": {},
     "output_type": "execute_result"
    }
   ],
   "source": [
    "list(get_image_transforms())"
   ]
  },
  {
   "cell_type": "markdown",
   "metadata": {},
   "source": [
    "To use any of these models, we simply construct a call from the model_string, as follows:"
   ]
  },
  {
   "cell_type": "code",
   "execution_count": 10,
   "metadata": {},
   "outputs": [],
   "source": [
    "model_string = 'resnet18_imagenet'"
   ]
  },
  {
   "cell_type": "code",
   "execution_count": 11,
   "metadata": {},
   "outputs": [],
   "source": [
    "model_name = model_options[model_string]['model_name']\n",
    "train_type = model_options[model_string]['train_type']\n",
    "model_call = model_options[model_string]['call']\n",
    "image_transforms = get_image_transforms()['imagenet_from_numpy']"
   ]
  },
  {
   "cell_type": "markdown",
   "metadata": {},
   "source": [
    "Notice here the structure of the model call string, which is the piece of code we evaluate to load the model."
   ]
  },
  {
   "cell_type": "code",
   "execution_count": 12,
   "metadata": {},
   "outputs": [
    {
     "data": {
      "text/plain": [
       "('resnet18', 'imagenet', 'models.resnet18(pretrained=True)')"
      ]
     },
     "execution_count": 12,
     "metadata": {},
     "output_type": "execute_result"
    }
   ],
   "source": [
    "model_name, train_type, model_call"
   ]
  },
  {
   "cell_type": "code",
   "execution_count": 13,
   "metadata": {},
   "outputs": [],
   "source": [
    "model = eval(model_call)\n",
    "model = model.eval()\n",
    "model = model.cuda()"
   ]
  },
  {
   "cell_type": "markdown",
   "metadata": {},
   "source": [
    "Next, we transform the stimulus set into a Torch variable and apply the relevant transforms, which we then pass into a convenience function we wrote based on [torchsummary](https://github.com/sksq96/pytorch-summary) that automatically extracts the features from each layer, returning an Ordered dictionary."
   ]
  },
  {
   "cell_type": "code",
   "execution_count": 14,
   "metadata": {},
   "outputs": [],
   "source": [
    "model_inputs = Variable(torch.stack([image_transforms(img) for img in stimulus_set])).cuda()\n",
    "feature_maps = get_all_feature_maps(model, model_inputs)"
   ]
  },
  {
   "cell_type": "markdown",
   "metadata": {},
   "source": [
    "Each entry in this dictionary is an array corresponding to the number of stimuli by the number of flattened activations in that layer."
   ]
  },
  {
   "cell_type": "code",
   "execution_count": 15,
   "metadata": {},
   "outputs": [
    {
     "data": {
      "text/plain": [
       "(119, 802816)"
      ]
     },
     "execution_count": 15,
     "metadata": {},
     "output_type": "execute_result"
    }
   ],
   "source": [
    "feature_maps['Conv2d-1'].shape"
   ]
  },
  {
   "cell_type": "markdown",
   "metadata": {},
   "source": [
    "For the purposes of this demonstration, we'll subset from this dictionary every 3rd convolutional layer."
   ]
  },
  {
   "cell_type": "code",
   "execution_count": 16,
   "metadata": {},
   "outputs": [],
   "source": [
    "map_key_subset = list(feature_maps.items())[:3] + list(feature_maps.items())[-3:]\n",
    "feature_map_subset = {map_key: map_item  for (map_key, map_item) in feature_maps.items() \n",
    "                      if 'Conv' in map_key and int(map_key[-1]) % 3 == 1}"
   ]
  },
  {
   "cell_type": "markdown",
   "metadata": {},
   "source": [
    "### Deep Net Features: Dimensionality Reduction"
   ]
  },
  {
   "cell_type": "markdown",
   "metadata": {},
   "source": [
    "Once we've extracted our model features (activations), we generally need to reduce their dimensionality. Here, we show how to extract sparse random projections from the feature maps corresponding to each model layer."
   ]
  },
  {
   "cell_type": "code",
   "execution_count": 17,
   "metadata": {},
   "outputs": [],
   "source": [
    "sys.path.append('model_opts')\n",
    "from srp_extraction import *"
   ]
  },
  {
   "cell_type": "markdown",
   "metadata": {},
   "source": [
    "The Johnson-Lindenstraus lemma tells us how many projections to draw based on the number of samples in our dataset -- in this case, 119 -- for a certain quality of representation. We use [scikit-learn](https://scikit-learn.org/stable/modules/random_projection.html)'s default embedding quality of 0.1"
   ]
  },
  {
   "cell_type": "code",
   "execution_count": 18,
   "metadata": {},
   "outputs": [
    {
     "name": "stdout",
     "output_type": "stream",
     "text": [
      "Number of projections: 4096\n"
     ]
    }
   ],
   "source": [
    "n_projections = johnson_lindenstrauss_min_dim(stimulus_set.shape[0], eps = 0.1)\n",
    "print('Number of projections:', n_projections)"
   ]
  },
  {
   "cell_type": "markdown",
   "metadata": {},
   "source": [
    "We then extract our projections using another wrapper function we've written to facilitate the process."
   ]
  },
  {
   "cell_type": "code",
   "execution_count": 19,
   "metadata": {},
   "outputs": [
    {
     "data": {
      "application/vnd.jupyter.widget-view+json": {
       "model_id": "ef3ac28530ea4c08a96f9e0b6a4c5c99",
       "version_major": 2,
       "version_minor": 0
      },
      "text/plain": [
       "HBox(children=(FloatProgress(value=0.0, max=6.0), HTML(value='')))"
      ]
     },
     "metadata": {},
     "output_type": "display_data"
    },
    {
     "name": "stdout",
     "output_type": "stream",
     "text": [
      "\n"
     ]
    }
   ],
   "source": [
    "output_dir = os.path.join(checkpoint_dir,'srp_arrays', str(n_projections), train_type)\n",
    "srp_feature_maps = srp_extraction(feature_map_subset, model_name, output_dir, n_projections)"
   ]
  },
  {
   "cell_type": "markdown",
   "metadata": {},
   "source": [
    "### Neural Regression"
   ]
  },
  {
   "cell_type": "markdown",
   "metadata": {},
   "source": [
    "With our features extract and their dimensionality reduced, we turn first to neural regression, regressing these dimensionality reduced feature maps directly on the response data from each neuron."
   ]
  },
  {
   "cell_type": "code",
   "execution_count": 20,
   "metadata": {},
   "outputs": [],
   "source": [
    "sys.path.append('regression')\n",
    "from neural_regression import *"
   ]
  },
  {
   "cell_type": "markdown",
   "metadata": {},
   "source": [
    "For the purposes of this demonstration, we'll select a random subset of our already thresholded subset of neurons."
   ]
  },
  {
   "cell_type": "code",
   "execution_count": 21,
   "metadata": {},
   "outputs": [
    {
     "data": {
      "application/vnd.jupyter.widget-view+json": {
       "model_id": "fa2039a28c2446509213124c6b5a1f3e",
       "version_major": 2,
       "version_minor": 0
      },
      "text/plain": [
       "HBox(children=(FloatProgress(value=0.0, max=39317.0), HTML(value='')))"
      ]
     },
     "metadata": {},
     "output_type": "display_data"
    },
    {
     "name": "stdout",
     "output_type": "stream",
     "text": [
      "\n"
     ]
    }
   ],
   "source": [
    "demo_cell_subset = np.array(cell_subset)[np.random.choice(len(cell_subset), 500, replace=0)].tolist()\n",
    "cell_response_subset = {cell_id: cell_responses for (cell_id, cell_responses) \n",
    "                        in tqdm(cell_responses.items()) if cell_id in demo_cell_subset}"
   ]
  },
  {
   "cell_type": "markdown",
   "metadata": {},
   "source": [
    "We can then proceed with the regression as follows:"
   ]
  },
  {
   "cell_type": "code",
   "execution_count": 22,
   "metadata": {},
   "outputs": [
    {
     "data": {
      "application/vnd.jupyter.widget-view+json": {
       "model_id": "e4d099405db0410faf3517d3526c8af3",
       "version_major": 2,
       "version_minor": 0
      },
      "text/plain": [
       "HBox(children=(FloatProgress(value=0.0, max=6.0), HTML(value='')))"
      ]
     },
     "metadata": {},
     "output_type": "display_data"
    },
    {
     "name": "stdout",
     "output_type": "stream",
     "text": [
      "\n"
     ]
    }
   ],
   "source": [
    "output_dir = os.path.join(checkpoint_dir, 'srp_results_demo', model_string)\n",
    "if not os.path.exists(output_dir):\n",
    "    os.makedirs(output_dir)\n",
    "\n",
    "scoresheet_dictlist = []\n",
    "for model_layer_name in tqdm(srp_feature_maps):\n",
    "    output_filename = '_'.join([model_layer_name])\n",
    "    output_filepath = os.path.join(output_dir, model_layer_name + '.csv')\n",
    "    if not os.path.exists(output_filepath):\n",
    "        for cell in tqdm(cell_response_subset, leave=False):\n",
    "            feature_map = srp_feature_maps[model_layer_name]\n",
    "            score = kfold_ridge_regression(feature_map, cell_response_subset[cell])\n",
    "            scoresheet_dictlist.append({'cell_specimen_id': cell, 'score': score, 'model': model_name, 'train_type': train_type,\n",
    "                               'model_layer': model_layer_name, 'method': 'srp_ridge_{}_projections'.format(n_projections)})\n",
    "        pd.DataFrame(scoresheet_dictlist).to_csv(output_filepath, index = None)"
   ]
  },
  {
   "cell_type": "markdown",
   "metadata": {},
   "source": [
    "Because we save the data for each model layer in individual folders, we then need to write a method for aggregating this data into one dataframe:"
   ]
  },
  {
   "cell_type": "code",
   "execution_count": 23,
   "metadata": {},
   "outputs": [],
   "source": [
    "asset_dir = os.path.join(checkpoint_dir, 'srp_results_demo')\n",
    "asset_subdirs = [file for file in os.listdir(asset_dir) if file[0] != '.']"
   ]
  },
  {
   "cell_type": "code",
   "execution_count": 24,
   "metadata": {},
   "outputs": [
    {
     "data": {
      "application/vnd.jupyter.widget-view+json": {
       "model_id": "71ae68458db64030a448fc8681f28a8b",
       "version_major": 2,
       "version_minor": 0
      },
      "text/plain": [
       "HBox(children=(FloatProgress(value=0.0, max=6.0), HTML(value='')))"
      ]
     },
     "metadata": {},
     "output_type": "display_data"
    }
   ],
   "source": [
    "asset_dflist = []\n",
    "for asset_subdir in asset_subdirs:\n",
    "    assets = glob(os.path.join(asset_dir, asset_subdir) + '/*.csv')\n",
    "    for asset in tqdm(assets, leave = False):\n",
    "        asset_dflist.append(pd.read_csv(asset))"
   ]
  },
  {
   "cell_type": "markdown",
   "metadata": {},
   "source": [
    "Because we're performing regressions at the level of individual neurons, we can carve up our results dataframe by any combination of the metadata we have for each cell."
   ]
  },
  {
   "cell_type": "code",
   "execution_count": 25,
   "metadata": {},
   "outputs": [
    {
     "data": {
      "text/plain": [
       "Index(['imaging_depth', 'targeted_structure', 'cre_line', 'reporter_line',\n",
       "       'acquisition_age_days', 'experiment_container_id', 'session_type',\n",
       "       'donor_name', 'specimen_name', 'fail_eye_tracking', 'experiment_id',\n",
       "       'sex', 'ophys_experiment_id', 'excitation_lambda', 'indicator', 'fov',\n",
       "       'genotype', 'session_start_time', 'imaging_depth_um', 'age_days',\n",
       "       'device', 'device_name', 'pipeline_version', 'cell_specimen_id', 'area',\n",
       "       'layer', 'p_run_mod_sg', 'tlr1_id', 'image_sel_ns', 'tlr1_name',\n",
       "       'g_dsi_dg', 'p_ns', 'specimen_id', 'p_dg', 'time_to_peak_sg',\n",
       "       'pref_dir_dg', 'dsi_dg', 'rf_overlap_index_lsn', 'rf_distance_lsn',\n",
       "       'tld1_name', 'osi_dg', 'pref_image_ns', 'peak_dff_sg', 'osi_sg',\n",
       "       'rf_center_on_y_lsn', 'time_to_peak_ns', 'rf_chi2_lsn',\n",
       "       'failed_experiment_container', 'reliability_ns', 'tld1_id',\n",
       "       'reliability_sg', 'run_mod_ns', 'rf_center_on_x_lsn', 'peak_dff_dg',\n",
       "       'p_sg', 'rf_area_on_lsn', 'tld2_name', 'pref_ori_sg', 'rf_area_off_lsn',\n",
       "       'p_run_mod_ns', 'pref_phase_sg', 'rf_center_off_y_lsn', 'pref_tf_dg',\n",
       "       'tfdi_dg', 'reliability_dg', 'tld2_id', 'run_mod_dg', 'p_run_mod_dg',\n",
       "       'reliability_nm1_a', 'reliability_nm1_c', 'reliability_nm1_b',\n",
       "       'rf_center_off_x_lsn', 'peak_dff_ns', 'donor_full_genotype', 'all_stim',\n",
       "       'run_mod_sg', 'pref_sf_sg', 'sfdi_sg', 'g_osi_sg', 'g_osi_dg',\n",
       "       'reliability_nm3', 'reliability_nm2', 'neural_site', 'splithalf_r'],\n",
       "      dtype='object')"
      ]
     },
     "execution_count": 25,
     "metadata": {},
     "output_type": "execute_result"
    }
   ],
   "source": [
    "cell_data.columns"
   ]
  },
  {
   "cell_type": "markdown",
   "metadata": {},
   "source": [
    "Here, we'll show an example of this carving with neural geography and genotyping:"
   ]
  },
  {
   "cell_type": "code",
   "execution_count": 26,
   "metadata": {},
   "outputs": [],
   "source": [
    "target_cell_data_columns = ['cell_specimen_id','area','layer','neural_site','cre_line']\n",
    "results = pd.concat(asset_dflist).merge(cell_data[target_cell_data_columns])"
   ]
  },
  {
   "cell_type": "code",
   "execution_count": 27,
   "metadata": {},
   "outputs": [
    {
     "data": {
      "image/png": "[encoded data removed]",
      "text/plain": [
       "<Figure size 540.875x360 with 1 Axes>"
      ]
     },
     "metadata": {
      "needs_background": "light"
     },
     "output_type": "display_data"
    }
   ],
   "source": [
    "sns.catplot(x='area', y='score', hue='cre_line', kind='bar', data=results, palette = 'husl');"
   ]
  },
  {
   "cell_type": "markdown",
   "metadata": {},
   "source": [
    "### Representational Similarity Regression"
   ]
  },
  {
   "cell_type": "markdown",
   "metadata": {},
   "source": [
    "We can further analyse our feature maps with representational similarity analysis: in particular, a combination of nonnegative least squares regression and representational dissimilarity matrices."
   ]
  },
  {
   "cell_type": "code",
   "execution_count": 28,
   "metadata": {},
   "outputs": [],
   "source": [
    "sys.path.append('similarity')\n",
    "from nnls_regression import *"
   ]
  },
  {
   "cell_type": "markdown",
   "metadata": {},
   "source": [
    "The first step in this procedure is the calculation of RDMs from our thresholded neural data."
   ]
  },
  {
   "cell_type": "code",
   "execution_count": 29,
   "metadata": {},
   "outputs": [],
   "source": [
    "brain_rdms = {}\n",
    "for area in sorted(cell_data['area'].unique()):\n",
    "    brain_rdms[area] = {}\n",
    "    for layer in sorted(cell_data[cell_data['area'] == area]['layer'].unique()):\n",
    "        neural_site_subset = cell_data[(cell_data['area'] == area) & (cell_data['layer'] == layer)]['cell_specimen_id']\n",
    "        target_cells = [cell for cell in neural_site_subset if cell in cell_subset]\n",
    "        target_cell_responses = np.stack([cell_responses[cell] for cell in target_cells]).transpose()\n",
    "        brain_rdms[area][layer] = np.corrcoef(target_cell_responses)"
   ]
  },
  {
   "cell_type": "markdown",
   "metadata": {},
   "source": [
    "The second step is the calculation of RDMs from each layer of our target model."
   ]
  },
  {
   "cell_type": "code",
   "execution_count": 30,
   "metadata": {},
   "outputs": [
    {
     "data": {
      "application/vnd.jupyter.widget-view+json": {
       "model_id": "36d1f1803c764062a25ab516db7d4ca4",
       "version_major": 2,
       "version_minor": 0
      },
      "text/plain": [
       "HBox(children=(FloatProgress(value=0.0, max=6.0), HTML(value='')))"
      ]
     },
     "metadata": {},
     "output_type": "display_data"
    },
    {
     "name": "stdout",
     "output_type": "stream",
     "text": [
      "\n"
     ]
    }
   ],
   "source": [
    "model_rdms = {}\n",
    "for model_layer in tqdm(feature_map_subset):\n",
    "    model_rdms[model_layer] = np.corrcoef(feature_maps[model_layer])\n",
    "    \n",
    "model_rdm_stack = np.stack([model_rdms[model_layer] for model_layer in list(model_rdms.keys())], 2)"
   ]
  },
  {
   "cell_type": "markdown",
   "metadata": {},
   "source": [
    "We then combine this into a cross-validated regression as follows:"
   ]
  },
  {
   "cell_type": "code",
   "execution_count": 31,
   "metadata": {},
   "outputs": [
    {
     "data": {
      "application/vnd.jupyter.widget-view+json": {
       "model_id": "79b99c56efd44347b74f948d552b3b30",
       "version_major": 2,
       "version_minor": 0
      },
      "text/plain": [
       "HBox(children=(FloatProgress(value=0.0, max=6.0), HTML(value='')))"
      ]
     },
     "metadata": {},
     "output_type": "display_data"
    },
    {
     "data": {
      "application/vnd.jupyter.widget-view+json": {
       "model_id": "bb457bd3a0ed46bd9ac47b2115642295",
       "version_major": 2,
       "version_minor": 0
      },
      "text/plain": [
       "HBox(children=(FloatProgress(value=0.0, max=3.0), HTML(value='')))"
      ]
     },
     "metadata": {},
     "output_type": "display_data"
    },
    {
     "data": {
      "application/vnd.jupyter.widget-view+json": {
       "model_id": "366a497214d846b797d09be7d898fdf5",
       "version_major": 2,
       "version_minor": 0
      },
      "text/plain": [
       "HBox(children=(FloatProgress(value=0.0, max=3.0), HTML(value='')))"
      ]
     },
     "metadata": {},
     "output_type": "display_data"
    },
    {
     "data": {
      "application/vnd.jupyter.widget-view+json": {
       "model_id": "52c8a71ff8b34285a7c8d8488b26c8a3",
       "version_major": 2,
       "version_minor": 0
      },
      "text/plain": [
       "HBox(children=(FloatProgress(value=0.0, max=4.0), HTML(value='')))"
      ]
     },
     "metadata": {},
     "output_type": "display_data"
    },
    {
     "data": {
      "application/vnd.jupyter.widget-view+json": {
       "model_id": "07d978f096ed4363b4a61df500ca0227",
       "version_major": 2,
       "version_minor": 0
      },
      "text/plain": [
       "HBox(children=(FloatProgress(value=0.0, max=4.0), HTML(value='')))"
      ]
     },
     "metadata": {},
     "output_type": "display_data"
    },
    {
     "data": {
      "application/vnd.jupyter.widget-view+json": {
       "model_id": "e85542f63575411ba36db206e5d6e10e",
       "version_major": 2,
       "version_minor": 0
      },
      "text/plain": [
       "HBox(children=(FloatProgress(value=0.0, max=4.0), HTML(value='')))"
      ]
     },
     "metadata": {},
     "output_type": "display_data"
    },
    {
     "data": {
      "application/vnd.jupyter.widget-view+json": {
       "model_id": "b817182ba88c4320bba46ee3d84d8c97",
       "version_major": 2,
       "version_minor": 0
      },
      "text/plain": [
       "HBox(children=(FloatProgress(value=0.0, max=3.0), HTML(value='')))"
      ]
     },
     "metadata": {},
     "output_type": "display_data"
    }
   ],
   "source": [
    "nnls_dict_list = []\n",
    "for area in tqdm(brain_rdms.keys(), leave = False):\n",
    "    for layer in tqdm(brain_rdms[area].keys(), leave = False):\n",
    "        brain_rdm = brain_rdms[area][layer]\n",
    "        nnls = kfold_nonnegative_regression(brain_rdm, model_rdm_stack, regression_type='linear', n_splits=6)\n",
    "        nnls_dict_list.append({'model': model_name, 'train_type': train_type, 'area': area, 'layer': layer, 'score': nnls[0]})\n",
    "\n",
    "nnlsa = pd.DataFrame(nnls_dict_list)"
   ]
  },
  {
   "cell_type": "code",
   "execution_count": 32,
   "metadata": {},
   "outputs": [
    {
     "data": {
      "image/png": "[encoded data removed]",
      "text/plain": [
       "<Figure size 360x360 with 1 Axes>"
      ]
     },
     "metadata": {
      "needs_background": "light"
     },
     "output_type": "display_data"
    }
   ],
   "source": [
    "sns.catplot(x='area', y='score', kind='bar', data = nnlsa, palette = 'husl');"
   ]
  },
  {
   "cell_type": "code",
   "execution_count": null,
   "metadata": {},
   "outputs": [],
   "source": []
  }
 ],
 "metadata": {
  "kernelspec": {
   "display_name": "Python 3",
   "language": "python",
   "name": "python3"
  },
  "language_info": {
   "codemirror_mode": {
    "name": "ipython",
    "version": 3
   },
   "file_extension": ".py",
   "mimetype": "text/x-python",
   "name": "python",
   "nbconvert_exporter": "python",
   "pygments_lexer": "ipython3",
   "version": "3.7.6"
  },
  "toc-autonumbering": false
 },
 "nbformat": 4,
 "nbformat_minor": 4
}
